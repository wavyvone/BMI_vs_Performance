{
 "cells": [
  {
   "cell_type": "markdown",
   "metadata": {},
   "source": [
    "### Create new CSV File with Names, Year, Season, BMI"
   ]
  },
  {
   "cell_type": "code",
   "execution_count": 1,
   "metadata": {},
   "outputs": [
    {
     "name": "stdout",
     "output_type": "stream",
     "text": [
      "         Image Name        BMI\n",
      "0  0909_2020_summer  26.006403\n",
      "1  0909_2021_spring  21.019953\n",
      "2  0909_2022_summer  24.589148\n",
      "3  1024_2019_spring  20.268976\n",
      "4  1024_2019_summer  20.057373\n"
     ]
    }
   ],
   "source": [
    "import pandas as pd\n",
    "\n",
    "# Load BMI data\n",
    "df = pd.read_csv('05_bmi copy.csv')\n",
    "\n",
    "# Display the first few rows to verify the data\n",
    "print(df.head())"
   ]
  },
  {
   "cell_type": "code",
   "execution_count": 2,
   "metadata": {},
   "outputs": [],
   "source": [
    "# Define a function to split the image name based on the number of underscores\n",
    "def split_image_name(row):\n",
    "    name_parts = row['Image Name'].split('_')\n",
    "    \n",
    "    year = name_parts[-2]\n",
    "    season = name_parts[-1]\n",
    "    name = name_parts[0:-2] #vector\n",
    "    name = ' '.join(name)\n",
    "    \n",
    "    return pd.Series([name, year, season])"
   ]
  },
  {
   "cell_type": "code",
   "execution_count": 3,
   "metadata": {},
   "outputs": [],
   "source": [
    "# Apply the split_image_name function to create new columns\n",
    "df[['Name', 'Year', 'Season']] = df.apply(split_image_name, axis=1)\n",
    "\n",
    "# Remove original column + move BMI column to end\n",
    "df.drop('Image Name', axis=1, inplace=True)\n",
    "bmi_column = df.pop('BMI')\n",
    "df['BMI'] = bmi_column\n",
    "\n",
    "# View the modified DataFrame\n",
    "df.head()\n",
    "\n",
    "df.to_csv('new_file05.csv', index=False)"
   ]
  },
  {
   "cell_type": "markdown",
   "metadata": {},
   "source": [
    "### Process Input "
   ]
  },
  {
   "cell_type": "code",
   "execution_count": 4,
   "metadata": {},
   "outputs": [],
   "source": [
    "# Create an empty dictionary to store each person's information\n",
    "person_data = {}\n",
    "\n",
    "# Iterate over each row in the DataFrame\n",
    "for index, row in df.iterrows():\n",
    "    name = row['Name']\n",
    "    year = row['Year']\n",
    "    season = row['Season']\n",
    "    bmi = row['BMI']\n",
    "    \n",
    "    # Check if the person's name exists in the dictionary\n",
    "    if name in person_data:\n",
    "        # Append the new information to the existing entry\n",
    "        person_data[name].append({'year': year, 'season': season, 'BMI': bmi})\n",
    "    else:\n",
    "        # Create a new entry for the person\n",
    "        person_data[name] = [{'year': year, 'season': season, 'BMI': bmi}]"
   ]
  },
  {
   "cell_type": "code",
   "execution_count": 6,
   "metadata": {},
   "outputs": [
    {
     "data": {
      "text/plain": [
       "2596"
      ]
     },
     "execution_count": 6,
     "metadata": {},
     "output_type": "execute_result"
    }
   ],
   "source": [
    "len(person_data.items())"
   ]
  }
 ],
 "metadata": {
  "kernelspec": {
   "display_name": "Python 3",
   "language": "python",
   "name": "python3"
  },
  "language_info": {
   "codemirror_mode": {
    "name": "ipython",
    "version": 3
   },
   "file_extension": ".py",
   "mimetype": "text/x-python",
   "name": "python",
   "nbconvert_exporter": "python",
   "pygments_lexer": "ipython3",
   "version": "3.8.5"
  }
 },
 "nbformat": 4,
 "nbformat_minor": 4
}
