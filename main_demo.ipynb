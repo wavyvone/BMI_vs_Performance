{
 "cells": [
  {
   "cell_type": "code",
   "execution_count": 9,
   "metadata": {
    "pycharm": {
     "name": "#%%\n"
    }
   },
   "outputs": [],
   "source": [
    "import cv2\n",
    "import sys\n",
    "import dlib\n",
    "import numpy as np\n",
    "from contextlib import contextmanager\n",
    "import urllib2\n",
    "from model import get_model\n",
    "import config\n",
    "\n",
    "import tensorflow as tf\n",
    "#tf.disable_eager_execution()\n",
    "#from tensorflow.python.framework.ops import disable_eager_execution\n",
    "#disable_eager_execution()\n",
    "\n",
    "from os import listdir\n",
    "from os.path import isfile, join"
   ]
  },
  {
   "cell_type": "code",
   "execution_count": 10,
   "metadata": {
    "pycharm": {
     "name": "#%%\n"
    }
   },
   "outputs": [],
   "source": [
    "def get_trained_model():\n",
    "    weights_file = 'bmi_model_weights.h5'\n",
    "    model = get_model()\n",
    "    model.load_weights(weights_file)\n",
    "    return model"
   ]
  },
  {
   "cell_type": "code",
   "execution_count": 11,
   "metadata": {
    "pycharm": {
     "name": "#%%\n"
    }
   },
   "outputs": [],
   "source": [
    "def draw_label(image, point, label, font=cv2.FONT_HERSHEY_SIMPLEX, font_scale=1, thickness=2):\n",
    "    size = cv2.getTextSize(label, font, font_scale, thickness)[0]\n",
    "    x, y = point\n",
    "    cv2.rectangle(image, (x, y - size[1]), (x + size[0], y), (255, 0, 0), cv2.FILLED)\n",
    "    cv2.putText(image, label, point, font, font_scale, (255, 255, 255), thickness)"
   ]
  },
  {
   "cell_type": "code",
   "execution_count": 33,
   "metadata": {
    "pycharm": {
     "name": "#%%\n"
    }
   },
   "outputs": [],
   "source": [
    "def run_demo():\n",
    "    args = sys.argv[1:]\n",
    "    multiple_targets = '--multiple' in args\n",
    "    single_or_multiple = 'multiple faces' if multiple_targets else 'single face'\n",
    "    model = get_trained_model()\n",
    "    print('Loading model to detect BMI of %s...' % single_or_multiple)\n",
    "\n",
    "    NUMBER_OF_FRAMES_IN_AVG = 20\n",
    "    last_seen_bmis = []\n",
    "    detector = dlib.get_frontal_face_detector()\n",
    "    \n",
    "    #grab an array of the image dir\n",
    "    mypath = \"./normalized_images/\" \n",
    "    norm_img = [mypath+f for f in listdir(mypath) if isfile(join(mypath, f))]\n",
    "    print(norm_img)\n",
    "\n",
    "    for image in norm_img:\n",
    "        img = cv2.imread(image, flags=cv2.IMREAD_COLOR)\n",
    "        input_img = cv2.cvtColor(img, cv2.COLOR_BGR2RGB)\n",
    "        img_h, img_w, _ = np.shape(input_img)\n",
    "\n",
    "        detected = detector(input_img, 1)\n",
    "        faces = np.empty((len(detected), config.RESNET50_DEFAULT_IMG_WIDTH, config.RESNET50_DEFAULT_IMG_WIDTH, 3))\n",
    "        if len(detected) > 0:\n",
    "            print(\"exist\")\n",
    "            for i, d in enumerate(detected):\n",
    "                x1, y1, x2, y2, w, h = d.left(), d.top(), d.right() + 1, d.bottom() + 1, d.width(), d.height()\n",
    "                xw1 = max(int(x1 - config.MARGIN * w), 0)\n",
    "                yw1 = max(int(y1 - config.MARGIN * h), 0)\n",
    "                xw2 = min(int(x2 + config.MARGIN * w), img_w - 1)\n",
    "                yw2 = min(int(y2 + config.MARGIN * h), img_h - 1)\n",
    "                cv2.rectangle(img, (x1, y1), (x2, y2), (255, 0, 0), 2)\n",
    "                faces[i, :, :, :] = cv2.resize(img[yw1:yw2 + 1, xw1:xw2 + 1, :], (config.RESNET50_DEFAULT_IMG_WIDTH, config.RESNET50_DEFAULT_IMG_WIDTH)) / 255.00\n",
    "\n",
    "            predictions = model.predict(faces)\n",
    "            print(predictions)\n",
    "\n",
    "            if multiple_targets:\n",
    "                for i, d in enumerate(detected):\n",
    "                    label = str(predictions[i][0])\n",
    "                    draw_label(img, (d.left(), d.top()), label)\n",
    "            else:\n",
    "                last_seen_bmis.append(predictions[0])\n",
    "                if len(last_seen_bmis) > NUMBER_OF_FRAMES_IN_AVG:\n",
    "                    last_seen_bmis.pop(0)\n",
    "                elif len(last_seen_bmis) < NUMBER_OF_FRAMES_IN_AVG:\n",
    "                    continue\n",
    "                avg_bmi = sum(last_seen_bmis) / float(NUMBER_OF_FRAMES_IN_AVG)\n",
    "                label = str(avg_bmi)\n",
    "                draw_label(img, (d.left(), d.top()), label)\n",
    "                print(avg_bmi)\n",
    "\n",
    "        cv2.imshow('result', img)\n",
    "        key = cv2.waitKey(30)\n",
    "\n",
    "        if key == 27:  # ESC\n",
    "            break"
   ]
  },
  {
   "cell_type": "code",
   "execution_count": 34,
   "metadata": {
    "scrolled": true
   },
   "outputs": [
    {
     "name": "stdout",
     "output_type": "stream",
     "text": [
      "Loaded weights from age classifier\n",
      "Loading model to detect BMI of single face...\n",
      "['./normalized_images/DIG_LOD_2017_Spring.png', './normalized_images/NV_LOD_2016_Summer.png', './normalized_images/C9T-LOD-2015nacs.png', './normalized_images/GGSA_Benji_2018_Split_2.png', './normalized_images/MBR_LOD_2016_Spring.png', './normalized_images/NV_LOD_2016_Summer_2.png', './normalized_images/GGSA_Benji_2019_Split_1.png']\n",
      "exist\n",
      "[[22.681356]]\n",
      "exist\n",
      "[[23.24748]]\n",
      "exist\n",
      "[[22.302496]]\n",
      "exist\n",
      "[[25.530092]]\n",
      "exist\n",
      "[[24.22936]]\n",
      "exist\n",
      "[[21.601984]]\n",
      "exist\n",
      "[[20.983566]]\n"
     ]
    }
   ],
   "source": [
    "run_demo()"
   ]
  },
  {
   "cell_type": "code",
   "execution_count": 24,
   "metadata": {},
   "outputs": [
    {
     "data": {
      "text/plain": [
       "['./normalized_images/DIG_LOD_2017_Spring.png',\n",
       " './normalized_images/NV_LOD_2016_Summer.png',\n",
       " './normalized_images/C9T-LOD-2015nacs.png',\n",
       " './normalized_images/GGSA_Benji_2018_Split_2.png',\n",
       " './normalized_images/MBR_LOD_2016_Spring.png',\n",
       " './normalized_images/NV_LOD_2016_Summer_2.png',\n",
       " './normalized_images/GGSA_Benji_2019_Split_1.png']"
      ]
     },
     "execution_count": 24,
     "metadata": {},
     "output_type": "execute_result"
    }
   ],
   "source": [
    "\n",
    "\n",
    "mypath = \"./normalized_images/\" \n",
    "onlyfiles = [mypath+f for f in listdir(mypath) if isfile(join(mypath, f))]\n",
    "onlyfiles"
   ]
  },
  {
   "cell_type": "code",
   "execution_count": null,
   "metadata": {},
   "outputs": [],
   "source": []
  }
 ],
 "metadata": {
  "kernelspec": {
   "display_name": "Python 2",
   "language": "python",
   "name": "python2"
  },
  "language_info": {
   "codemirror_mode": {
    "name": "ipython",
    "version": 2
   },
   "file_extension": ".py",
   "mimetype": "text/x-python",
   "name": "python",
   "nbconvert_exporter": "python",
   "pygments_lexer": "ipython2",
   "version": "2.7.16"
  }
 },
 "nbformat": 4,
 "nbformat_minor": 1
}
