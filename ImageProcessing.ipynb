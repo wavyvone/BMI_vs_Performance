{
 "cells": [
  {
   "cell_type": "code",
   "execution_count": 1,
   "metadata": {},
   "outputs": [],
   "source": [
    "import os\n",
    "import cv2\n",
    "import dlib\n",
    "from matplotlib import pyplot as plt\n",
    "import numpy as np\n",
    "import config\n",
    "\n",
    "detector = dlib.get_frontal_face_detector()"
   ]
  },
  {
   "cell_type": "code",
   "execution_count": 2,
   "metadata": {},
   "outputs": [],
   "source": [
    "def crop_faces():\n",
    "    bad_crop_count = 0\n",
    "    print(config.CROPPED_IMGS_DIR)\n",
    "    if not os.path.exists(config.CROPPED_IMGS_DIR):\n",
    "        os.makedirs(config.CROPPED_IMGS_DIR)\n",
    "    print ('Cropping faces and saving to %s' % config.CROPPED_IMGS_DIR)\n",
    "    good_cropped_images = []\n",
    "    good_cropped_img_file_names = []\n",
    "    detected_cropped_images = []\n",
    "    original_images_detected = []\n",
    "    for file_name in sorted(os.listdir(config.ORIGINAL_IMGS_DIR)):\n",
    "        np_img = cv2.imread(os.path.join(config.ORIGINAL_IMGS_DIR,file_name))\n",
    "        detected = detector(np_img, 1)\n",
    "        img_h, img_w, _ = np.shape(np_img)\n",
    "        original_images_detected.append(np_img)\n",
    "\n",
    "        if len(detected) != 1:\n",
    "            bad_crop_count += 1\n",
    "            continue\n",
    "\n",
    "        d = detected[0]\n",
    "        x1, y1, x2, y2, w, h = d.left(), d.top(), d.right() + 1, d.bottom() + 1, d.width(), d.height()\n",
    "        xw1 = int(x1 - config.MARGIN * w)\n",
    "        yw1 = int(y1 - config.MARGIN * h)\n",
    "        xw2 = int(x2 + config.MARGIN * w)\n",
    "        yw2 = int(y2 + config.MARGIN * h)\n",
    "        cropped_img = crop_image_to_dimensions(np_img, xw1, yw1, xw2, yw2)\n",
    "        norm_file_path = '%s/%s' % (config.CROPPED_IMGS_DIR, file_name)\n",
    "        cv2.imwrite(norm_file_path, cropped_img)\n",
    "\n",
    "        good_cropped_img_file_names.append(file_name)\n",
    "    # save info of good cropped images\n",
    "    '''\n",
    "    with open(config.ORIGINAL_IMGS_INFO_FILE, 'r') as f:\n",
    "        column_headers = f.read().splitlines()[0]\n",
    "        all_imgs_info = f.read().splitlines()[1:]\n",
    "    cropped_imgs_info = [l for l in all_imgs_info if l.split(',')[-1] in good_cropped_img_file_names]\n",
    "\n",
    "\n",
    "    with open(config.CROPPED_IMGS_INFO_FILE, 'w') as f:\n",
    "        f.write('%s\\n' % column_headers)\n",
    "        for l in cropped_imgs_info:\n",
    "            f.write('%s\\n' % l)\n",
    "    '''\n",
    "\n",
    "    print ('Cropped %d images and saved in %s - info in %s' % (len(original_images_detected), config.CROPPED_IMGS_DIR, config.CROPPED_IMGS_INFO_FILE))\n",
    "    #print ('Error detecting face in %d images - info in Data/unnormalized.txt' % bad_crop_count)\n",
    "    return good_cropped_images"
   ]
  },
  {
   "cell_type": "code",
   "execution_count": 3,
   "metadata": {},
   "outputs": [],
   "source": [
    "# image cropping function taken from:\n",
    "# https://stackoverflow.com/questions/15589517/how-to-crop-an-image-in-opencv-using-python\n",
    "def crop_image_to_dimensions(img, x1, y1, x2, y2):\n",
    "    if x1 < 0 or y1 < 0 or x2 > img.shape[1] or y2 > img.shape[0]:\n",
    "        img, x1, x2, y1, y2 = pad_img_to_fit_bbox(img, x1, x2, y1, y2)\n",
    "    return img[y1:y2, x1:x2, :]"
   ]
  },
  {
   "cell_type": "code",
   "execution_count": 4,
   "metadata": {},
   "outputs": [],
   "source": [
    "def pad_img_to_fit_bbox(img, x1, x2, y1, y2):\n",
    "    img = cv2.copyMakeBorder(img, - min(0, y1), max(y2 - img.shape[0], 0),\n",
    "                             -min(0, x1), max(x2 - img.shape[1], 0), cv2.BORDER_REPLICATE)\n",
    "    y2 += -min(0, y1)\n",
    "    y1 += -min(0, y1)\n",
    "    x2 += -min(0, x1)\n",
    "    x1 += -min(0, x1)\n",
    "    return img, x1, x2, y1, y2"
   ]
  },
  {
   "cell_type": "code",
   "execution_count": 5,
   "metadata": {},
   "outputs": [
    {
     "name": "stdout",
     "output_type": "stream",
     "text": [
      "normalized_images\n",
      "Cropping faces and saving to normalized_images\n",
      "Cropped 6 images and saved in normalized_images - info in normalized_data.csv\n"
     ]
    }
   ],
   "source": [
    "if __name__ == '__main__':\n",
    "    crop_faces()"
   ]
  },
  {
   "cell_type": "code",
   "execution_count": null,
   "metadata": {},
   "outputs": [],
   "source": []
  }
 ],
 "metadata": {
  "kernelspec": {
   "display_name": "Python 2",
   "language": "python",
   "name": "python2"
  },
  "language_info": {
   "codemirror_mode": {
    "name": "ipython",
    "version": 2
   },
   "file_extension": ".py",
   "mimetype": "text/x-python",
   "name": "python",
   "nbconvert_exporter": "python",
   "pygments_lexer": "ipython2",
   "version": "2.7.16"
  }
 },
 "nbformat": 4,
 "nbformat_minor": 5
}
