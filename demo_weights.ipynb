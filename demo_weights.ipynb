{
 "cells": [
  {
   "cell_type": "code",
   "execution_count": 2,
   "id": "7b9cf622",
   "metadata": {},
   "outputs": [
    {
     "ename": "ModuleNotFoundError",
     "evalue": "No module named 'model'",
     "output_type": "error",
     "traceback": [
      "\u001b[0;31m---------------------------------------------------------------------------\u001b[0m",
      "\u001b[0;31mModuleNotFoundError\u001b[0m                       Traceback (most recent call last)",
      "\u001b[0;32m<ipython-input-2-a3b4f7c6fe15>\u001b[0m in \u001b[0;36m<module>\u001b[0;34m\u001b[0m\n\u001b[1;32m      5\u001b[0m \u001b[0;32mfrom\u001b[0m \u001b[0mcontextlib\u001b[0m \u001b[0;32mimport\u001b[0m \u001b[0mcontextmanager\u001b[0m\u001b[0;34m\u001b[0m\u001b[0;34m\u001b[0m\u001b[0m\n\u001b[1;32m      6\u001b[0m \u001b[0;31m#import urllib2\u001b[0m\u001b[0;34m\u001b[0m\u001b[0;34m\u001b[0m\u001b[0;34m\u001b[0m\u001b[0m\n\u001b[0;32m----> 7\u001b[0;31m \u001b[0;32mfrom\u001b[0m \u001b[0mmodel\u001b[0m \u001b[0;32mimport\u001b[0m \u001b[0mget_model\u001b[0m\u001b[0;34m\u001b[0m\u001b[0;34m\u001b[0m\u001b[0m\n\u001b[0m\u001b[1;32m      8\u001b[0m \u001b[0;32mimport\u001b[0m \u001b[0mconfig\u001b[0m\u001b[0;34m\u001b[0m\u001b[0;34m\u001b[0m\u001b[0m\n",
      "\u001b[0;31mModuleNotFoundError\u001b[0m: No module named 'model'"
     ]
    }
   ],
   "source": [
    "import cv2\n",
    "import sys\n",
    "import dlib\n",
    "import numpy as np\n",
    "from contextlib import contextmanager\n",
    "#import urllib2\n",
    "from model import get_model\n",
    "import config"
   ]
  },
  {
   "cell_type": "code",
   "execution_count": null,
   "id": "84676758",
   "metadata": {},
   "outputs": [],
   "source": [
    "def get_trained_model():\n",
    "    weights_file = 'bmi_model_weights.h5'\n",
    "    model = get_model(ignore_age_weights=True)\n",
    "    model.load_weights(weights_file)\n",
    "    return model\n",
    "\n",
    "\n",
    "def draw_label(image, point, label, font=cv2.FONT_HERSHEY_SIMPLEX, font_scale=1, thickness=2):\n",
    "    size = cv2.getTextSize(label, font, font_scale, thickness)[0]\n",
    "    x, y = point\n",
    "    cv2.rectangle(image, (x, y - size[1]), (x + size[0], y), (255, 0, 0), cv2.FILLED)\n",
    "    cv2.putText(image, label, point, font, font_scale, (255, 255, 255), thickness)"
   ]
  },
  {
   "cell_type": "code",
   "execution_count": null,
   "id": "d2a42a0b",
   "metadata": {},
   "outputs": [],
   "source": [
    "def run_demo():\n",
    "    args = sys.argv[1:]\n",
    "    multiple_targets = '--multiple' in args\n",
    "    single_or_multiple = 'multiple faces' if multiple_targets else 'single face'\n",
    "    model = get_trained_model()\n",
    "    print 'Loading model to detect BMI of %s...' % single_or_multiple\n",
    "\n",
    "    NUMBER_OF_FRAMES_IN_AVG = 20\n",
    "    last_seen_bmis = []\n",
    "    detector = dlib.get_frontal_face_detector()\n",
    "    \n",
    "    image_link = './NA/3in1warrior/3in1warrior.png'\n",
    "    \n",
    "    img = cv2.imread(image_link)\n",
    "    \n",
    "    input_img = cv2.cvtColor(img, cv2.COLOR_BGR2RGB)\n",
    "    img_h, img_w, _ = np.shape(input_img)\n",
    "\n",
    "    detected = detector(input_img, 1)\n",
    "    faces = np.empty((len(detected), config.RESNET50_DEFAULT_IMG_WIDTH, config.RESNET50_DEFAULT_IMG_WIDTH, 3))\n",
    "    \n",
    "    if len(detected) > 0:\n",
    "        for i, d in enumerate(detected):\n",
    "            x1, y1, x2, y2, w, h = d.left(), d.top(), d.right() + 1, d.bottom() + 1, d.width(), d.height()\n",
    "            xw1 = max(int(x1 - config.MARGIN * w), 0)\n",
    "            yw1 = max(int(y1 - config.MARGIN * h), 0)\n",
    "            xw2 = min(int(x2 + config.MARGIN * w), img_w - 1)\n",
    "            yw2 = min(int(y2 + config.MARGIN * h), img_h - 1)\n",
    "            cv2.rectangle(img, (x1, y1), (x2, y2), (255, 0, 0), 2)\n",
    "            faces[i, :, :, :] = cv2.resize(img[yw1:yw2 + 1, xw1:xw2 + 1, :], (config.RESNET50_DEFAULT_IMG_WIDTH, config.RESNET50_DEFAULT_IMG_WIDTH)) / 255.00\n",
    "\n",
    "        predictions = model.predict(faces)\n",
    "\n",
    "        if multiple_targets:\n",
    "            for i, d in enumerate(detected):\n",
    "                label = str(predictions[i][0])\n",
    "                draw_label(img, (d.left(), d.top()), label)\n",
    "        else:\n",
    "            last_seen_bmis.append(predictions[0])\n",
    "            if len(last_seen_bmis) > NUMBER_OF_FRAMES_IN_AVG:\n",
    "                last_seen_bmis.pop(0)\n",
    "            elif len(last_seen_bmis) < NUMBER_OF_FRAMES_IN_AVG:\n",
    "                continue\n",
    "            avg_bmi = sum(last_seen_bmis) / float(NUMBER_OF_FRAMES_IN_AVG)\n",
    "            label = str(avg_bmi)\n",
    "            draw_label(img, (d.left(), d.top()), label)\n",
    "\n",
    "    cv2.imshow('result', img)\n",
    "    key = cv2.waitKey(30)"
   ]
  }
 ],
 "metadata": {
  "kernelspec": {
   "display_name": "Python 3",
   "language": "python",
   "name": "python3"
  },
  "language_info": {
   "codemirror_mode": {
    "name": "ipython",
    "version": 3
   },
   "file_extension": ".py",
   "mimetype": "text/x-python",
   "name": "python",
   "nbconvert_exporter": "python",
   "pygments_lexer": "ipython3",
   "version": "3.8.8"
  }
 },
 "nbformat": 4,
 "nbformat_minor": 5
}
