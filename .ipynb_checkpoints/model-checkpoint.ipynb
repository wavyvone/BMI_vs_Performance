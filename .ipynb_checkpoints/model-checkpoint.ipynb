{
 "cells": [
  {
   "cell_type": "code",
   "execution_count": 1,
   "id": "bda84c35",
   "metadata": {},
   "outputs": [
    {
     "ename": "ModuleNotFoundError",
     "evalue": "No module named 'tensorflow.python.keras.applications'",
     "output_type": "error",
     "traceback": [
      "\u001b[0;31m---------------------------------------------------------------------------\u001b[0m",
      "\u001b[0;31mModuleNotFoundError\u001b[0m                       Traceback (most recent call last)",
      "\u001b[0;32m<ipython-input-1-a68b083122c4>\u001b[0m in \u001b[0;36m<module>\u001b[0;34m\u001b[0m\n\u001b[1;32m      1\u001b[0m \u001b[0;32mfrom\u001b[0m \u001b[0mtensorflow\u001b[0m\u001b[0;34m.\u001b[0m\u001b[0mpython\u001b[0m\u001b[0;34m.\u001b[0m\u001b[0mkeras\u001b[0m\u001b[0;34m.\u001b[0m\u001b[0mmodels\u001b[0m \u001b[0;32mimport\u001b[0m \u001b[0mModel\u001b[0m\u001b[0;34m\u001b[0m\u001b[0;34m\u001b[0m\u001b[0m\n\u001b[0;32m----> 2\u001b[0;31m \u001b[0;32mfrom\u001b[0m \u001b[0mtensorflow\u001b[0m\u001b[0;34m.\u001b[0m\u001b[0mpython\u001b[0m\u001b[0;34m.\u001b[0m\u001b[0mkeras\u001b[0m\u001b[0;34m.\u001b[0m\u001b[0mapplications\u001b[0m \u001b[0;32mimport\u001b[0m \u001b[0mResNet50\u001b[0m\u001b[0;34m\u001b[0m\u001b[0;34m\u001b[0m\u001b[0m\n\u001b[0m\u001b[1;32m      3\u001b[0m \u001b[0;32mfrom\u001b[0m \u001b[0mtensorflow\u001b[0m\u001b[0;34m.\u001b[0m\u001b[0mpython\u001b[0m\u001b[0;34m.\u001b[0m\u001b[0mkeras\u001b[0m\u001b[0;34m.\u001b[0m\u001b[0mlayers\u001b[0m \u001b[0;32mimport\u001b[0m \u001b[0mDense\u001b[0m\u001b[0;34m\u001b[0m\u001b[0;34m\u001b[0m\u001b[0m\n\u001b[1;32m      4\u001b[0m \u001b[0;32mimport\u001b[0m \u001b[0mconfig\u001b[0m\u001b[0;34m\u001b[0m\u001b[0;34m\u001b[0m\u001b[0m\n",
      "\u001b[0;31mModuleNotFoundError\u001b[0m: No module named 'tensorflow.python.keras.applications'"
     ]
    }
   ],
   "source": [
    "from tensorflow.python.keras.models import Model\n",
    "from tensorflow.python.keras.applications import ResNet50\n",
    "from tensorflow.python.keras.layers import Dense\n",
    "import config"
   ]
  },
  {
   "cell_type": "code",
   "execution_count": null,
   "id": "b56fff3c",
   "metadata": {},
   "outputs": [],
   "source": [
    "def get_age_model():\n",
    "    # adapted from https://github.com/yu4u/age-gender-estimation/blob/master/age_estimation/model.py\n",
    "    age_model = ResNet50(\n",
    "        include_top=False,\n",
    "        weights='imagenet',\n",
    "        input_shape=(config.RESNET50_DEFAULT_IMG_WIDTH, config.RESNET50_DEFAULT_IMG_WIDTH, 3),\n",
    "        pooling='avg')\n",
    "\n",
    "    prediction = Dense(units=101,\n",
    "                       kernel_initializer='he_normal',\n",
    "                       use_bias=False,\n",
    "                       activation='softmax',\n",
    "                       name='pred_age')(age_model.output)\n",
    "\n",
    "    age_model = Model(inputs=age_model.input, outputs=prediction)\n",
    "    age_model.load_weights(config.AGE_TRAINED_WEIGHTS_FILE)\n",
    "    print 'Loaded weights from age classifier'\n",
    "    return age_model"
   ]
  },
  {
   "cell_type": "code",
   "execution_count": null,
   "id": "e848018f",
   "metadata": {},
   "outputs": [],
   "source": [
    "def get_model():\n",
    "    base_model = get_age_model()\n",
    "    last_hidden_layer = base_model.get_layer(index=-2)\n",
    "\n",
    "    base_model = Model(\n",
    "        inputs=base_model.input,\n",
    "        outputs=last_hidden_layer.output)\n",
    "    prediction = Dense(1, kernel_initializer='normal')(base_model.output)\n",
    "\n",
    "    model = Model(inputs=base_model.input, outputs=prediction)\n",
    "    return model\n",
    "view raw"
   ]
  },
  {
   "cell_type": "code",
   "execution_count": null,
   "id": "59664264",
   "metadata": {},
   "outputs": [],
   "source": []
  }
 ],
 "metadata": {
  "kernelspec": {
   "display_name": "Python 3",
   "language": "python",
   "name": "python3"
  },
  "language_info": {
   "codemirror_mode": {
    "name": "ipython",
    "version": 3
   },
   "file_extension": ".py",
   "mimetype": "text/x-python",
   "name": "python",
   "nbconvert_exporter": "python",
   "pygments_lexer": "ipython3",
   "version": "3.8.8"
  }
 },
 "nbformat": 4,
 "nbformat_minor": 5
}
