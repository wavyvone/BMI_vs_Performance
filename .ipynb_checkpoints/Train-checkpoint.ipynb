{
 "cells": [
  {
   "cell_type": "code",
   "execution_count": 1,
   "id": "c2af1742",
   "metadata": {},
   "outputs": [
    {
     "ename": "ModuleNotFoundError",
     "evalue": "No module named 'train_generator'",
     "output_type": "error",
     "traceback": [
      "\u001b[0;31m---------------------------------------------------------------------------\u001b[0m",
      "\u001b[0;31mModuleNotFoundError\u001b[0m                       Traceback (most recent call last)",
      "\u001b[0;32m<ipython-input-1-9d66ebaf076b>\u001b[0m in \u001b[0;36m<module>\u001b[0;34m\u001b[0m\n\u001b[1;32m      2\u001b[0m \u001b[0;32mimport\u001b[0m \u001b[0mnumpy\u001b[0m \u001b[0;32mas\u001b[0m \u001b[0mnp\u001b[0m\u001b[0;34m\u001b[0m\u001b[0;34m\u001b[0m\u001b[0m\n\u001b[1;32m      3\u001b[0m \u001b[0;32mfrom\u001b[0m \u001b[0mtensorflow\u001b[0m\u001b[0;34m.\u001b[0m\u001b[0mpython\u001b[0m\u001b[0;34m.\u001b[0m\u001b[0mkeras\u001b[0m\u001b[0;34m.\u001b[0m\u001b[0mcallbacks\u001b[0m \u001b[0;32mimport\u001b[0m \u001b[0mEarlyStopping\u001b[0m\u001b[0;34m,\u001b[0m \u001b[0mModelCheckpoint\u001b[0m\u001b[0;34m,\u001b[0m \u001b[0mTensorBoard\u001b[0m\u001b[0;34m\u001b[0m\u001b[0;34m\u001b[0m\u001b[0m\n\u001b[0;32m----> 4\u001b[0;31m \u001b[0;32mfrom\u001b[0m \u001b[0mtrain_generator\u001b[0m \u001b[0;32mimport\u001b[0m \u001b[0mtrain_generator\u001b[0m\u001b[0;34m,\u001b[0m \u001b[0mplot_imgs_from_generator\u001b[0m\u001b[0;34m\u001b[0m\u001b[0;34m\u001b[0m\u001b[0m\n\u001b[0m\u001b[1;32m      5\u001b[0m \u001b[0;32mfrom\u001b[0m \u001b[0mmae_callback\u001b[0m \u001b[0;32mimport\u001b[0m \u001b[0mMAECallback\u001b[0m\u001b[0;34m\u001b[0m\u001b[0;34m\u001b[0m\u001b[0m\n\u001b[1;32m      6\u001b[0m \u001b[0;32mimport\u001b[0m \u001b[0mconfig\u001b[0m\u001b[0;34m\u001b[0m\u001b[0;34m\u001b[0m\u001b[0m\n",
      "\u001b[0;31mModuleNotFoundError\u001b[0m: No module named 'train_generator'"
     ]
    }
   ],
   "source": [
    "import cv2\n",
    "import numpy as np\n",
    "from tensorflow.python.keras.callbacks import EarlyStopping, ModelCheckpoint, TensorBoard\n",
    "from train_generator import train_generator, plot_imgs_from_generator\n",
    "from mae_callback import MAECallback\n",
    "import config"
   ]
  },
  {
   "cell_type": "code",
   "execution_count": null,
   "id": "534d9dc1",
   "metadata": {},
   "outputs": [],
   "source": [
    "batches_per_epoch=train_generator.n //train_generator.batch_size"
   ]
  },
  {
   "cell_type": "code",
   "execution_count": 2,
   "id": "a2835fad",
   "metadata": {},
   "outputs": [
    {
     "ename": "SyntaxError",
     "evalue": "Missing parentheses in call to 'print'. Did you mean print('Training top layer...')? (<ipython-input-2-2f80bceffb19>, line 3)",
     "output_type": "error",
     "traceback": [
      "\u001b[0;36m  File \u001b[0;32m\"<ipython-input-2-2f80bceffb19>\"\u001b[0;36m, line \u001b[0;32m3\u001b[0m\n\u001b[0;31m    print 'Training top layer...'\u001b[0m\n\u001b[0m          ^\u001b[0m\n\u001b[0;31mSyntaxError\u001b[0m\u001b[0;31m:\u001b[0m Missing parentheses in call to 'print'. Did you mean print('Training top layer...')?\n"
     ]
    }
   ],
   "source": [
    "def train_top_layer(model):\n",
    "\n",
    "    print ('Training top layer...')\n",
    "\n",
    "    for l in model.layers[:-1]:\n",
    "        l.trainable = False\n",
    "\n",
    "    model.compile(\n",
    "        loss='mean_absolute_error',\n",
    "        optimizer='adam')\n",
    "\n",
    "    mae_callback = MAECallback()\n",
    "\n",
    "    early_stopping_callback = EarlyStopping(\n",
    "        monitor='val_mae',\n",
    "        mode='min',\n",
    "        verbose=1,\n",
    "        patience=1)\n",
    "    model_checkpoint_callback = ModelCheckpoint(\n",
    "        'saved_models/top_layer_trained_weights.{epoch:02d}-{val_mae:.2f}.h5',\n",
    "        monitor='val_mae',\n",
    "        mode='min',\n",
    "        verbose=1,\n",
    "        save_best_only=True)\n",
    "\n",
    "    tensorboard_callback = TensorBoard(\n",
    "        log_dir=config.TOP_LAYER_LOG_DIR,\n",
    "        batch_size=train_generator.batch_size)\n",
    "\n",
    "    model.fit_generator(\n",
    "        generator=train_generator,\n",
    "        steps_per_epoch=batches_per_epoch,\n",
    "        epochs=20,\n",
    "        callbacks=[\n",
    "            mae_callback,\n",
    "            early_stopping_callback,\n",
    "            model_checkpoint_callback,\n",
    "            tensorboard_callback])"
   ]
  },
  {
   "cell_type": "code",
   "execution_count": null,
   "id": "413c09e6",
   "metadata": {},
   "outputs": [],
   "source": [
    "def train_all_layers(model):\n",
    "\n",
    "    print 'Training all layers...'\n",
    "\n",
    "    for l in model.layers:\n",
    "        l.trainable = True\n",
    "\n",
    "    mae_callback = MAECallback()\n",
    "\n",
    "    early_stopping_callback = EarlyStopping(\n",
    "        monitor='val_mae',\n",
    "        mode='min',\n",
    "        verbose=1,\n",
    "        patience=10)\n",
    "\n",
    "    model_checkpoint_callback = ModelCheckpoint(\n",
    "        'saved_models/all_layers_trained_weights.{epoch:02d}-{val_mae:.2f}.h5',\n",
    "        monitor='val_mae',\n",
    "        mode='min',\n",
    "        verbose=1,\n",
    "        save_best_only=True)\n",
    "\n",
    "    tensorboard_callback = TensorBoard(\n",
    "        log_dir=config.ALL_LAYERS_LOG_DIR,\n",
    "        batch_size=train_generator.batch_size)\n",
    "    \n",
    "    \n",
    "    model.compile(\n",
    "        loss='mean_absolute_error',\n",
    "        optimizer='adam')\n",
    "\n",
    "    model.fit_generator(\n",
    "        generator=train_generator,\n",
    "        steps_per_epoch=batches_per_epoch,\n",
    "        epochs=100,\n",
    "        callbacks=[\n",
    "            mae_callback,\n",
    "            early_stopping_callback,\n",
    "            model_checkpoint_callback,\n",
    "            tensorboard_callback])"
   ]
  }
 ],
 "metadata": {
  "kernelspec": {
   "display_name": "Python 3",
   "language": "python",
   "name": "python3"
  },
  "language_info": {
   "codemirror_mode": {
    "name": "ipython",
    "version": 3
   },
   "file_extension": ".py",
   "mimetype": "text/x-python",
   "name": "python",
   "nbconvert_exporter": "python",
   "pygments_lexer": "ipython3",
   "version": "3.8.8"
  }
 },
 "nbformat": 4,
 "nbformat_minor": 5
}
