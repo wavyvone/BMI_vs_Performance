{
 "cells": [
  {
   "cell_type": "code",
   "execution_count": 1,
   "id": "25d9324b",
   "metadata": {},
   "outputs": [
    {
     "ename": "ModuleNotFoundError",
     "evalue": "No module named 'dlib'",
     "output_type": "error",
     "traceback": [
      "\u001b[0;31m---------------------------------------------------------------------------\u001b[0m",
      "\u001b[0;31mModuleNotFoundError\u001b[0m                       Traceback (most recent call last)",
      "\u001b[0;32m<ipython-input-1-5ed67a4ae807>\u001b[0m in \u001b[0;36m<module>\u001b[0;34m\u001b[0m\n\u001b[1;32m      1\u001b[0m \u001b[0;32mimport\u001b[0m \u001b[0mos\u001b[0m\u001b[0;34m\u001b[0m\u001b[0;34m\u001b[0m\u001b[0m\n\u001b[1;32m      2\u001b[0m \u001b[0;32mimport\u001b[0m \u001b[0mcv2\u001b[0m\u001b[0;34m\u001b[0m\u001b[0;34m\u001b[0m\u001b[0m\n\u001b[0;32m----> 3\u001b[0;31m \u001b[0;32mimport\u001b[0m \u001b[0mdlib\u001b[0m\u001b[0;34m\u001b[0m\u001b[0;34m\u001b[0m\u001b[0m\n\u001b[0m\u001b[1;32m      4\u001b[0m \u001b[0;32mfrom\u001b[0m \u001b[0mmatplotlib\u001b[0m \u001b[0;32mimport\u001b[0m \u001b[0mpyplot\u001b[0m \u001b[0;32mas\u001b[0m \u001b[0mplt\u001b[0m\u001b[0;34m\u001b[0m\u001b[0;34m\u001b[0m\u001b[0m\n\u001b[1;32m      5\u001b[0m \u001b[0;32mimport\u001b[0m \u001b[0mnumpy\u001b[0m \u001b[0;32mas\u001b[0m \u001b[0mnp\u001b[0m\u001b[0;34m\u001b[0m\u001b[0;34m\u001b[0m\u001b[0m\n",
      "\u001b[0;31mModuleNotFoundError\u001b[0m: No module named 'dlib'"
     ]
    }
   ],
   "source": [
    "import os\n",
    "import cv2\n",
    "import dlib\n",
    "from matplotlib import pyplot as plt\n",
    "import numpy as np\n",
    "import config\n",
    "\n",
    "detector = dlib.get_frontal_face_detector()"
   ]
  },
  {
   "cell_type": "code",
   "execution_count": 6,
   "id": "a883281c",
   "metadata": {},
   "outputs": [],
   "source": [
    "def crop_faces():\n",
    "    bad_crop_count = 0\n",
    "    if not os.path.exists(config.CROPPED_IMGS_DIR):\n",
    "        os.makedirs(config.CROPPED_IMGS_DIR)\n",
    "    print ('Cropping faces and saving to %s' % config.CROPPED_IMGS_DIR)\n",
    "    good_cropped_images = []\n",
    "    good_cropped_img_file_names = []\n",
    "    detected_cropped_images = []\n",
    "    original_images_detected = []\n",
    "    for file_name in sorted(os.listdir(config.ORIGINAL_IMGS_DIR)):\n",
    "        np_img = cv2.imread(os.path.join(config.ORIGINAL_IMGS_DIR,file_name))\n",
    "        detected = detector(np_img, 1)\n",
    "        img_h, img_w, _ = np.shape(np_img)\n",
    "        original_images_detected.append(np_img)\n",
    "\n",
    "        if len(detected) != 1:\n",
    "            bad_crop_count += 1\n",
    "            continue\n",
    "\n",
    "        d = detected[0]\n",
    "        x1, y1, x2, y2, w, h = d.left(), d.top(), d.right() + 1, d.bottom() + 1, d.width(), d.height()\n",
    "        xw1 = int(x1 - config.MARGIN * w)\n",
    "        yw1 = int(y1 - config.MARGIN * h)\n",
    "        xw2 = int(x2 + config.MARGIN * w)\n",
    "        yw2 = int(y2 + config.MARGIN * h)\n",
    "        cropped_img = crop_image_to_dimensions(np_img, xw1, yw1, xw2, yw2)\n",
    "        norm_file_path = '%s/%s' % (config.CROPPED_IMGS_DIR, file_name)\n",
    "        cv2.imwrite(norm_file_path, cropped_img)\n",
    "\n",
    "        good_cropped_img_file_names.append(file_name)\n",
    "    # save info of good cropped images\n",
    "    with open(config.ORIGINAL_IMGS_INFO_FILE, 'r') as f:\n",
    "        column_headers = f.read().splitlines()[0]\n",
    "        all_imgs_info = f.read().splitlines()[1:]\n",
    "    cropped_imgs_info = [l for l in all_imgs_info if l.split(',')[-1] in good_cropped_img_file_names]\n",
    "\n",
    "    with open(config.CROPPED_IMGS_INFO_FILE, 'w') as f:\n",
    "        f.write('%s\\n' % column_headers)\n",
    "        for l in cropped_imgs_info:\n",
    "            f.write('%s\\n' % l)\n",
    "\n",
    "    print ('Cropped %d images and saved in %s - info in %s' % (len(original_images_detected), config.CROPPED_IMGS_DIR, config.CROPPED_IMGS_INFO_FILE))\n",
    "    print ('Error detecting face in %d images - info in Data/unnormalized.txt' % bad_crop_count)\n",
    "    return good_cropped_images"
   ]
  },
  {
   "cell_type": "code",
   "execution_count": 7,
   "id": "0cf70aa6",
   "metadata": {},
   "outputs": [],
   "source": [
    "# image cropping function taken from:\n",
    "# https://stackoverflow.com/questions/15589517/how-to-crop-an-image-in-opencv-using-python\n",
    "def crop_image_to_dimensions(img, x1, y1, x2, y2):\n",
    "    if x1 < 0 or y1 < 0 or x2 > img.shape[1] or y2 > img.shape[0]:\n",
    "        img, x1, x2, y1, y2 = pad_img_to_fit_bbox(img, x1, x2, y1, y2)\n",
    "    return img[y1:y2, x1:x2, :]"
   ]
  },
  {
   "cell_type": "code",
   "execution_count": 8,
   "id": "027f5319",
   "metadata": {},
   "outputs": [],
   "source": [
    "def pad_img_to_fit_bbox(img, x1, x2, y1, y2):\n",
    "    img = cv2.copyMakeBorder(img, - min(0, y1), max(y2 - img.shape[0], 0),\n",
    "                             -min(0, x1), max(x2 - img.shape[1], 0), cv2.BORDER_REPLICATE)\n",
    "    y2 += -min(0, y1)\n",
    "    y1 += -min(0, y1)\n",
    "    x2 += -min(0, x1)\n",
    "    x1 += -min(0, x1)\n",
    "    return img, x1, x2, y1, y2"
   ]
  },
  {
   "cell_type": "code",
   "execution_count": 9,
   "id": "2b36ffca",
   "metadata": {},
   "outputs": [
    {
     "ename": "NameError",
     "evalue": "name 'config' is not defined",
     "output_type": "error",
     "traceback": [
      "\u001b[0;31m---------------------------------------------------------------------------\u001b[0m",
      "\u001b[0;31mNameError\u001b[0m                                 Traceback (most recent call last)",
      "\u001b[0;32m<ipython-input-9-942740f5b454>\u001b[0m in \u001b[0;36m<module>\u001b[0;34m\u001b[0m\n\u001b[1;32m      1\u001b[0m \u001b[0;32mif\u001b[0m \u001b[0m__name__\u001b[0m \u001b[0;34m==\u001b[0m \u001b[0;34m'__main__'\u001b[0m\u001b[0;34m:\u001b[0m\u001b[0;34m\u001b[0m\u001b[0;34m\u001b[0m\u001b[0m\n\u001b[0;32m----> 2\u001b[0;31m     \u001b[0mcrop_faces\u001b[0m\u001b[0;34m(\u001b[0m\u001b[0;34m)\u001b[0m\u001b[0;34m\u001b[0m\u001b[0;34m\u001b[0m\u001b[0m\n\u001b[0m",
      "\u001b[0;32m<ipython-input-6-e601bafd2fd4>\u001b[0m in \u001b[0;36mcrop_faces\u001b[0;34m()\u001b[0m\n\u001b[1;32m      1\u001b[0m \u001b[0;32mdef\u001b[0m \u001b[0mcrop_faces\u001b[0m\u001b[0;34m(\u001b[0m\u001b[0;34m)\u001b[0m\u001b[0;34m:\u001b[0m\u001b[0;34m\u001b[0m\u001b[0;34m\u001b[0m\u001b[0m\n\u001b[1;32m      2\u001b[0m     \u001b[0mbad_crop_count\u001b[0m \u001b[0;34m=\u001b[0m \u001b[0;36m0\u001b[0m\u001b[0;34m\u001b[0m\u001b[0;34m\u001b[0m\u001b[0m\n\u001b[0;32m----> 3\u001b[0;31m     \u001b[0;32mif\u001b[0m \u001b[0;32mnot\u001b[0m \u001b[0mos\u001b[0m\u001b[0;34m.\u001b[0m\u001b[0mpath\u001b[0m\u001b[0;34m.\u001b[0m\u001b[0mexists\u001b[0m\u001b[0;34m(\u001b[0m\u001b[0mconfig\u001b[0m\u001b[0;34m.\u001b[0m\u001b[0mCROPPED_IMGS_DIR\u001b[0m\u001b[0;34m)\u001b[0m\u001b[0;34m:\u001b[0m\u001b[0;34m\u001b[0m\u001b[0;34m\u001b[0m\u001b[0m\n\u001b[0m\u001b[1;32m      4\u001b[0m         \u001b[0mos\u001b[0m\u001b[0;34m.\u001b[0m\u001b[0mmakedirs\u001b[0m\u001b[0;34m(\u001b[0m\u001b[0mconfig\u001b[0m\u001b[0;34m.\u001b[0m\u001b[0mCROPPED_IMGS_DIR\u001b[0m\u001b[0;34m)\u001b[0m\u001b[0;34m\u001b[0m\u001b[0;34m\u001b[0m\u001b[0m\n\u001b[1;32m      5\u001b[0m     \u001b[0mprint\u001b[0m \u001b[0;34m(\u001b[0m\u001b[0;34m'Cropping faces and saving to %s'\u001b[0m \u001b[0;34m%\u001b[0m \u001b[0mconfig\u001b[0m\u001b[0;34m.\u001b[0m\u001b[0mCROPPED_IMGS_DIR\u001b[0m\u001b[0;34m)\u001b[0m\u001b[0;34m\u001b[0m\u001b[0;34m\u001b[0m\u001b[0m\n",
      "\u001b[0;31mNameError\u001b[0m: name 'config' is not defined"
     ]
    }
   ],
   "source": [
    "if __name__ == '__main__':\n",
    "    crop_faces()"
   ]
  },
  {
   "cell_type": "code",
   "execution_count": null,
   "id": "239e3e21",
   "metadata": {},
   "outputs": [],
   "source": []
  }
 ],
 "metadata": {
  "kernelspec": {
   "display_name": "Python 3",
   "language": "python",
   "name": "python3"
  },
  "language_info": {
   "codemirror_mode": {
    "name": "ipython",
    "version": 3
   },
   "file_extension": ".py",
   "mimetype": "text/x-python",
   "name": "python",
   "nbconvert_exporter": "python",
   "pygments_lexer": "ipython3",
   "version": "3.8.8"
  }
 },
 "nbformat": 4,
 "nbformat_minor": 5
}
